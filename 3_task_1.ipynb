{
  "nbformat": 4,
  "nbformat_minor": 0,
  "metadata": {
    "colab": {
      "name": "3.task##1.ipynb",
      "provenance": [],
      "collapsed_sections": [],
      "authorship_tag": "ABX9TyNze1jxfyZJBCUmbqFAXd/C",
      "include_colab_link": true
    },
    "kernelspec": {
      "name": "python3",
      "display_name": "Python 3"
    }
  },
  "cells": [
    {
      "cell_type": "markdown",
      "metadata": {
        "id": "view-in-github",
        "colab_type": "text"
      },
      "source": [
        "<a href=\"https://colab.research.google.com/github/MRBAIYSH69/Algorithms/blob/master/3_task_1.ipynb\" target=\"_parent\"><img src=\"https://colab.research.google.com/assets/colab-badge.svg\" alt=\"Open In Colab\"/></a>"
      ]
    },
    {
      "cell_type": "code",
      "metadata": {
        "id": "-qS_UAXMUy6h",
        "colab_type": "code",
        "outputId": "1e07d8e5-7686-4ea2-a2c2-1cdf0e67cb82",
        "colab": {
          "base_uri": "https://localhost:8080/",
          "height": 153
        }
      },
      "source": [
        "#  В диапазоне натуральных чисел от 2 до 99 определить, сколько из них кратны каждому из чисел в диапазоне от 2 до 9. \n",
        "#  Примечание: 8 разных ответов.\n",
        "num = [0]*8\n",
        "for i in range (2,100):\n",
        "  for j in range (2,10):\n",
        "    if i % j == 0:\n",
        "      num[j-2] += 1\n",
        "\n",
        "i = 0\n",
        "while i < len(num):\n",
        "  print(i + 2,' - ',num[i])\n",
        "  i += 1\n",
        "\n",
        "\n"
      ],
      "execution_count": 0,
      "outputs": [
        {
          "output_type": "stream",
          "text": [
            "2  -  49\n",
            "3  -  33\n",
            "4  -  24\n",
            "5  -  19\n",
            "6  -  16\n",
            "7  -  14\n",
            "8  -  12\n",
            "9  -  11\n"
          ],
          "name": "stdout"
        }
      ]
    },
    {
      "cell_type": "code",
      "metadata": {
        "id": "XhVydv-zM86n",
        "colab_type": "code",
        "colab": {}
      },
      "source": [
        ""
      ],
      "execution_count": 0,
      "outputs": []
    },
    {
      "cell_type": "code",
      "metadata": {
        "id": "uW36FRg5NAoz",
        "colab_type": "code",
        "colab": {}
      },
      "source": [
        ""
      ],
      "execution_count": 0,
      "outputs": []
    }
  ]
}