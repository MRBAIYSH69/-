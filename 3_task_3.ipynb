{
  "nbformat": 4,
  "nbformat_minor": 0,
  "metadata": {
    "colab": {
      "name": "3.task##3.ipynb",
      "provenance": [],
      "collapsed_sections": [],
      "authorship_tag": "ABX9TyOuCIyHwOFlDmYqsxAh7+SU",
      "include_colab_link": true
    },
    "kernelspec": {
      "name": "python3",
      "display_name": "Python 3"
    }
  },
  "cells": [
    {
      "cell_type": "markdown",
      "metadata": {
        "id": "view-in-github",
        "colab_type": "text"
      },
      "source": [
        "<a href=\"https://colab.research.google.com/github/MRBAIYSH69/Algorithms/blob/master/3_task_3.ipynb\" target=\"_parent\"><img src=\"https://colab.research.google.com/assets/colab-badge.svg\" alt=\"Open In Colab\"/></a>"
      ]
    },
    {
      "cell_type": "code",
      "metadata": {
        "id": "-qS_UAXMUy6h",
        "colab_type": "code",
        "outputId": "35ab318d-2088-4237-f8e5-14cb787478ca",
        "colab": {
          "base_uri": "https://localhost:8080/",
          "height": 68
        }
      },
      "source": [
        "from random import random\n",
        "\n",
        "N = 20\n",
        "a = [0]*N\n",
        "for i in range (N):\n",
        "  a[i] = int(random()*50)\n",
        "  print('%3d'% a[i], end= '')\n",
        "print()\n",
        "\n",
        "min_id = 0\n",
        "max_id = 0\n",
        "for i in range(1,N):\n",
        "  if a[i] < a[min_id]:\n",
        "    min_id = i\n",
        "  elif   a[i] > a[max_id]:\n",
        "    max_id = i\n",
        "print(a[min_id],a[max_id])\n",
        "\n",
        "if min_id > max_id:\n",
        "  max_id,min_id = min_id,max_id\n",
        "\n",
        "summ = 0\n",
        "for i in range(min_id+1,max_id):\n",
        "  summ += a[i]\n",
        "print(summ)"
      ],
      "execution_count": 26,
      "outputs": [
        {
          "output_type": "stream",
          "text": [
            " 37 18 26  2 47 48 26 27 15 21  1 14 29  7 39 19 22 28 12 19\n",
            "1 48\n",
            "89\n"
          ],
          "name": "stdout"
        }
      ]
    },
    {
      "cell_type": "code",
      "metadata": {
        "id": "XhVydv-zM86n",
        "colab_type": "code",
        "colab": {}
      },
      "source": [
        ""
      ],
      "execution_count": 0,
      "outputs": []
    },
    {
      "cell_type": "code",
      "metadata": {
        "id": "uW36FRg5NAoz",
        "colab_type": "code",
        "colab": {}
      },
      "source": [
        ""
      ],
      "execution_count": 0,
      "outputs": []
    }
  ]
}