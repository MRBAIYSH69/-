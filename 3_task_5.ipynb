{
  "nbformat": 4,
  "nbformat_minor": 0,
  "metadata": {
    "colab": {
      "name": "3.task##5.ipynb",
      "provenance": [],
      "collapsed_sections": [],
      "authorship_tag": "ABX9TyMT/hbRjRgpFMasLxGWMP/x",
      "include_colab_link": true
    },
    "kernelspec": {
      "name": "python3",
      "display_name": "Python 3"
    }
  },
  "cells": [
    {
      "cell_type": "markdown",
      "metadata": {
        "id": "view-in-github",
        "colab_type": "text"
      },
      "source": [
        "<a href=\"https://colab.research.google.com/github/MRBAIYSH69/Algorithms/blob/master/3_task_5.ipynb\" target=\"_parent\"><img src=\"https://colab.research.google.com/assets/colab-badge.svg\" alt=\"Open In Colab\"/></a>"
      ]
    },
    {
      "cell_type": "code",
      "metadata": {
        "id": "Z6VMcROBUHHQ",
        "colab_type": "code",
        "colab": {
          "base_uri": "https://localhost:8080/",
          "height": 425
        },
        "outputId": "8699f2ac-a94b-48f6-c4d8-64302caf2386"
      },
      "source": [
        "#Найти максимальный элемент среди минимальных элементов столбцов матрицы.\n",
        "from random import random\n",
        "M = 10\n",
        "N = 5\n",
        "a = []\n",
        "for i in range(N):\n",
        "    b = []\n",
        "    for j in range(M):\n",
        "        n = int(random()*200)\n",
        "        b.append(n)\n",
        "        print('%4d' % n,end='')\n",
        "    a.append(b)\n",
        "    print()\n",
        " \n",
        "mx = -1\n",
        "for j in range(M):\n",
        "    mn = 200\n",
        "    for i in range(N):\n",
        "        if a[i][j] < mn:\n",
        "            mn = a[i][j]\n",
        "    if mn > mx:\n",
        "        mx = mn\n",
        "print(\"Максимальный среди минимальных: \", mx)"
      ],
      "execution_count": 40,
      "outputs": [
        {
          "output_type": "stream",
          "text": [
            "1-я строка:\n",
            "34\n",
            "56\n",
            "6\n",
            "67\n",
            "2-я строка:\n",
            "45\n",
            "7\n",
            "98\n",
            "56\n",
            "3-я строка:\n",
            "45\n",
            "23\n",
            "87\n",
            "87\n",
            "4-я строка:\n",
            "90\n",
            "98\n",
            "34\n",
            "56\n",
            "   34   56    6   67  163\n",
            "   45    7   98   56  206\n",
            "   45   23   87   87  242\n",
            "   90   98   34   56  278\n"
          ],
          "name": "stdout"
        }
      ]
    }
  ]
}