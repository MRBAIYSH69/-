{
  "nbformat": 4,
  "nbformat_minor": 0,
  "metadata": {
    "colab": {
      "name": "3.task##4.ipynb",
      "provenance": [],
      "collapsed_sections": [],
      "authorship_tag": "ABX9TyO8qP6BZ1jALt3XOGrsX5Ha",
      "include_colab_link": true
    },
    "kernelspec": {
      "name": "python3",
      "display_name": "Python 3"
    }
  },
  "cells": [
    {
      "cell_type": "markdown",
      "metadata": {
        "id": "view-in-github",
        "colab_type": "text"
      },
      "source": [
        "<a href=\"https://colab.research.google.com/github/MRBAIYSH69/Algorithms/blob/master/3_task_4.ipynb\" target=\"_parent\"><img src=\"https://colab.research.google.com/assets/colab-badge.svg\" alt=\"Open In Colab\"/></a>"
      ]
    },
    {
      "cell_type": "code",
      "metadata": {
        "id": "Z6VMcROBUHHQ",
        "colab_type": "code",
        "colab": {
          "base_uri": "https://localhost:8080/",
          "height": 425
        },
        "outputId": "8699f2ac-a94b-48f6-c4d8-64302caf2386"
      },
      "source": [
        "# Матрица 5x4 заполняется вводом с клавиатуры, кроме последних элементов строк. \n",
        "# Программа должна вычислять сумму введенных элементов каждой строки и записывать ее в последнюю ячейку строки. \n",
        "# В конце следует вывести полученную матрицу.\n",
        "\n",
        "M = 5\n",
        "N = 4\n",
        "a = []\n",
        "for i in range(N):\n",
        "    b = []\n",
        "    s = 0\n",
        "    i += 1\n",
        "    print(\"%d-я строка:\" % i)\n",
        "    for j in range(M-1):\n",
        "        n = int(input())\n",
        "        s += n\n",
        "        b.append(n)\n",
        "    b.append(s)\n",
        "    a.append(b)\n",
        " \n",
        "for i in a:\n",
        "  for item in i:\n",
        "    print(f'{item:>5}', end= '')\n",
        "  print()\n",
        "# print(i)"
      ],
      "execution_count": 40,
      "outputs": [
        {
          "output_type": "stream",
          "text": [
            "1-я строка:\n",
            "34\n",
            "56\n",
            "6\n",
            "67\n",
            "2-я строка:\n",
            "45\n",
            "7\n",
            "98\n",
            "56\n",
            "3-я строка:\n",
            "45\n",
            "23\n",
            "87\n",
            "87\n",
            "4-я строка:\n",
            "90\n",
            "98\n",
            "34\n",
            "56\n",
            "   34   56    6   67  163\n",
            "   45    7   98   56  206\n",
            "   45   23   87   87  242\n",
            "   90   98   34   56  278\n"
          ],
          "name": "stdout"
        }
      ]
    }
  ]
}