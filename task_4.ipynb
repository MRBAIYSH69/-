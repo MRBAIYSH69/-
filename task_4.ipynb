{
  "nbformat": 4,
  "nbformat_minor": 0,
  "metadata": {
    "colab": {
      "name": "task# 4.ipynb",
      "provenance": [],
      "authorship_tag": "ABX9TyMZzrT2Zf9W81xIm2LnjZiJ",
      "include_colab_link": true
    },
    "kernelspec": {
      "name": "python3",
      "display_name": "Python 3"
    }
  },
  "cells": [
    {
      "cell_type": "markdown",
      "metadata": {
        "id": "view-in-github",
        "colab_type": "text"
      },
      "source": [
        "<a href=\"https://colab.research.google.com/github/MRBAIYSH69/Algorithms/blob/master/task_4.ipynb\" target=\"_parent\"><img src=\"https://colab.research.google.com/assets/colab-badge.svg\" alt=\"Open In Colab\"/></a>"
      ]
    },
    {
      "cell_type": "code",
      "metadata": {
        "id": "fSG9QTL3DXqk",
        "colab_type": "code",
        "outputId": "efe251d1-44d7-4d5e-b237-b4c59d420b85",
        "colab": {
          "base_uri": "https://localhost:8080/",
          "height": 85
        }
      },
      "source": [
        "a = int(input('Введите первое число: '))\n",
        "b = int(input('Введите второе число: '))\n",
        "c = int(input('Введите третье число: '))\n",
        "print(\"Среднее число: \", end= \"\")\n",
        "if a > b > c:\n",
        "  print(b)\n",
        "elif b > a > c:\n",
        "  print(a)\n",
        "elif a > c > b:\n",
        "  print(c)\n",
        "else:\n",
        "  print('среднего числа нет, один из чисел равен к другому')\n",
        "\n"
      ],
      "execution_count": 20,
      "outputs": [
        {
          "output_type": "stream",
          "text": [
            "Введите первое число: 123\n",
            "Введите второе число: 56\n",
            "Введите третье число: 56\n",
            "Среднее число: среднего числа нет, один из чисел равен к другому\n"
          ],
          "name": "stdout"
        }
      ]
    },
    {
      "cell_type": "code",
      "metadata": {
        "id": "aL0ZuktVDbP-",
        "colab_type": "code",
        "colab": {}
      },
      "source": [
        ")"
      ],
      "execution_count": 0,
      "outputs": []
    },
    {
      "cell_type": "code",
      "metadata": {
        "id": "z-9zjBlADbpQ",
        "colab_type": "code",
        "colab": {}
      },
      "source": [
        ""
      ],
      "execution_count": 0,
      "outputs": []
    }
  ]
}