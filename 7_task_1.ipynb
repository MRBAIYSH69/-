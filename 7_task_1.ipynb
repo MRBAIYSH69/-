{
  "nbformat": 4,
  "nbformat_minor": 0,
  "metadata": {
    "colab": {
      "name": "7.task##1.ipynb",
      "provenance": [],
      "collapsed_sections": [],
      "authorship_tag": "ABX9TyM8cYsu0LlPwGrfNg5dQkoE",
      "include_colab_link": true
    },
    "kernelspec": {
      "name": "python3",
      "display_name": "Python 3"
    }
  },
  "cells": [
    {
      "cell_type": "markdown",
      "metadata": {
        "id": "view-in-github",
        "colab_type": "text"
      },
      "source": [
        "<a href=\"https://colab.research.google.com/github/MRBAIYSH69/Algorithms/blob/master/7_task_1.ipynb\" target=\"_parent\"><img src=\"https://colab.research.google.com/assets/colab-badge.svg\" alt=\"Open In Colab\"/></a>"
      ]
    },
    {
      "cell_type": "code",
      "metadata": {
        "id": "yjx7tmfWMkpt",
        "colab_type": "code",
        "outputId": "c42db379-ef6b-4528-9c2b-bf1b3a6bff61",
        "colab": {
          "base_uri": "https://localhost:8080/",
          "height": 51
        }
      },
      "source": [
        "# 1. Отсортируйте по убыванию методом пузырька одномерный целочисленный массив,\n",
        "# заданный случайными числами на промежутке [-100; 100). \n",
        "# Выведите на экран исходный и отсортированный массивы.\n",
        "\n",
        "import random\n",
        "\n",
        "size = 20\n",
        "a = [random.randint(-100,100) for _ in range (size)]\n",
        "print(a)\n",
        "\n",
        "def sorter(a):\n",
        "  for i in range (19):\n",
        "    for j in range(19-i):\n",
        "      if a[j] > a[j+1]:\n",
        "        a[j],a[j+1] = a[j+1],a[j]\n",
        "\n",
        "sorter(a)\n",
        "print(a)"
      ],
      "execution_count": 20,
      "outputs": [
        {
          "output_type": "stream",
          "text": [
            "[-62, -1, 83, 83, -69, -47, 83, -83, -46, 57, -99, 41, 24, 91, 25, -58, 89, -64, 57, -31]\n",
            "[-83, -69, -62, -47, -46, -1, 57, 83, 83, 83, -99, 41, 24, 91, 25, -58, 89, -64, 57, -31]\n"
          ],
          "name": "stdout"
        }
      ]
    }
  ]
}