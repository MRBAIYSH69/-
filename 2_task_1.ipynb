{
  "nbformat": 4,
  "nbformat_minor": 0,
  "metadata": {
    "colab": {
      "name": "2.task#1.ipynb",
      "provenance": [],
      "collapsed_sections": [],
      "authorship_tag": "ABX9TyPAVOKJNjdaPqmVqsxGkDJL",
      "include_colab_link": true
    },
    "kernelspec": {
      "name": "python3",
      "display_name": "Python 3"
    }
  },
  "cells": [
    {
      "cell_type": "markdown",
      "metadata": {
        "id": "view-in-github",
        "colab_type": "text"
      },
      "source": [
        "<a href=\"https://colab.research.google.com/github/MRBAIYSH69/Algorithms/blob/master/2_task_1.ipynb\" target=\"_parent\"><img src=\"https://colab.research.google.com/assets/colab-badge.svg\" alt=\"Open In Colab\"/></a>"
      ]
    },
    {
      "cell_type": "code",
      "metadata": {
        "id": "RclYxp9unixW",
        "colab_type": "code",
        "colab": {
          "base_uri": "https://localhost:8080/",
          "height": 187
        },
        "outputId": "5dab379e-d186-45c1-dbe5-eeed2c51561e"
      },
      "source": [
        "#Написать программу, которая будет складывать, вычитать, умножать или делить два числа. \n",
        "# Числа и знак операции вводятся пользователем. После выполнения вычисления программа не завершается, а запрашивает новые данные для вычислений. \n",
        "# Завершение программы должно выполняться при вводе символа '0' в качестве знака операции.\n",
        "# Если пользователь вводит неверный знак (не '0', '+', '-', '', '/'), программа должна сообщать об ошибке и снова запрашивать знак операции. \n",
        "# Также она должна сообщать пользователю о невозможности деления на ноль, если он ввел его в качестве делителя.\n",
        "print('Операция 0 заверщает программу')\n",
        "while True:\n",
        "        с = input(\"Выберите операцию (+,-,*,/): \")\n",
        "        if с == '0': break\n",
        "        if с in ('+','-','*','/'):\n",
        "                x = float(input(\"'Введите число:\"))\n",
        "                y = float(input(\"'Введите число:\"))\n",
        "                if с == '+':\n",
        "                        print(\"%.2f\" % (x+y))\n",
        "                elif с == '-':\n",
        "                        print(\"%.2f\" % (x-y))\n",
        "                elif с == '*':\n",
        "                        print(\"%.2f\" % (x*y))\n",
        "                elif с == '/':\n",
        "                        if y != 0:\n",
        "                                print(\"%.2f\" % (x/y))\n",
        "                        else:\n",
        "                                print(\"Деление на ноль!\")\n",
        "        else:          \n",
        "                print(\"Неверный знак операции!\")"
      ],
      "execution_count": 0,
      "outputs": [
        {
          "output_type": "stream",
          "text": [
            "Если хотите завершить операцию нажмите 0\n",
            "Выберите операцию (+,-,*,/): -\n",
            "'Введите число:345\n",
            "'Введите число:56732\n",
            "-56387.00\n",
            "Выберите операцию (+,-,*,/): /\n",
            "'Введите число:45\n",
            "'Введите число:0\n",
            "Деление на ноль!\n",
            "Выберите операцию (+,-,*,/): 0\n"
          ],
          "name": "stdout"
        }
      ]
    }
  ]
}