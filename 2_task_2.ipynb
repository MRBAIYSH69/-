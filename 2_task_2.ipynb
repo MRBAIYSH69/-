{
  "nbformat": 4,
  "nbformat_minor": 0,
  "metadata": {
    "colab": {
      "name": "2.task#2.ipynb",
      "provenance": [],
      "collapsed_sections": [],
      "authorship_tag": "ABX9TyM5X8jWQ8zbIrsvQuN+KclO",
      "include_colab_link": true
    },
    "kernelspec": {
      "name": "python3",
      "display_name": "Python 3"
    }
  },
  "cells": [
    {
      "cell_type": "markdown",
      "metadata": {
        "id": "view-in-github",
        "colab_type": "text"
      },
      "source": [
        "<a href=\"https://colab.research.google.com/github/MRBAIYSH69/Algorithms/blob/master/2_task_2.ipynb\" target=\"_parent\"><img src=\"https://colab.research.google.com/assets/colab-badge.svg\" alt=\"Open In Colab\"/></a>"
      ]
    },
    {
      "cell_type": "code",
      "metadata": {
        "id": "VTxjmWOG_4Nz",
        "colab_type": "code",
        "colab": {
          "base_uri": "https://localhost:8080/",
          "height": 51
        },
        "outputId": "b2ca946d-12b8-4f0a-8871-35a031d1ee14"
      },
      "source": [
        "#  Посчитать четные и нечетные цифры введенного натурального числа. Например, если введено число 34560, в нем 3 четные цифры (4, 6 и 0) и 2 нечетные (3 и 5).\n",
        "n = int(input('Введите число:'))\n",
        "even=odd=0\n",
        "while n>0:\n",
        "    if n%2 == 0:\n",
        "        even += 1\n",
        "    else:\n",
        "        odd += 1\n",
        "    n = n//10\n",
        "print(\"четных - %d, нечетных - %d\" % (even, odd))"
      ],
      "execution_count": 22,
      "outputs": [
        {
          "output_type": "stream",
          "text": [
            "Введите число:3525664\n",
            "четных - 4, нечетных - 3\n"
          ],
          "name": "stdout"
        }
      ]
    }
  ]
}