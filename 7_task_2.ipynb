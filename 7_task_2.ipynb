{
  "nbformat": 4,
  "nbformat_minor": 0,
  "metadata": {
    "colab": {
      "name": "7.task##2.ipynb",
      "provenance": [],
      "collapsed_sections": [],
      "authorship_tag": "ABX9TyOOFwAM+WPDDeW3Gz9btwRc",
      "include_colab_link": true
    },
    "kernelspec": {
      "name": "python3",
      "display_name": "Python 3"
    }
  },
  "cells": [
    {
      "cell_type": "markdown",
      "metadata": {
        "id": "view-in-github",
        "colab_type": "text"
      },
      "source": [
        "<a href=\"https://colab.research.google.com/github/MRBAIYSH69/Algorithms/blob/master/7_task_2.ipynb\" target=\"_parent\"><img src=\"https://colab.research.google.com/assets/colab-badge.svg\" alt=\"Open In Colab\"/></a>"
      ]
    },
    {
      "cell_type": "code",
      "metadata": {
        "id": "Xl0rqiJUiAA1",
        "colab_type": "code",
        "colab": {
          "base_uri": "https://localhost:8080/",
          "height": 51
        },
        "outputId": "55f65111-875d-439b-d0f0-785f082f7388"
      },
      "source": [
        "# 2. Отсортируйте по возрастанию методом слияния одномерный вещественный массив, \n",
        "# заданный случайными числами на промежутке [0; 50). \n",
        "# Выведите на экран исходный и отсортированный массивы.\n",
        "\n",
        "import random\n",
        "size = 10\n",
        "wer = [random.randint(0,50) for _ in range(size)]\n",
        "print(wer)\n",
        "\n",
        "def sorteredt(wer):\n",
        "\n",
        "  for i in range (len(wer)):\n",
        "    idx_min = i\n",
        "\n",
        "    for j in range (i+1, len(wer)):\n",
        "      if wer[j] < wer[idx_min]:\n",
        "        idx_min = j\n",
        "\n",
        "    wer[idx_min], wer[i] = wer[i], wer[idx_min]\n",
        "\n",
        "sorteredt(wer)\n",
        "print(wer)"
      ],
      "execution_count": 24,
      "outputs": [
        {
          "output_type": "stream",
          "text": [
            "[26, 8, 16, 4, 34, 12, 44, 7, 25, 27]\n",
            "[4, 7, 8, 12, 16, 25, 26, 27, 34, 44]\n"
          ],
          "name": "stdout"
        }
      ]
    }
  ]
}