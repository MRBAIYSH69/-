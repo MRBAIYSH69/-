{
  "nbformat": 4,
  "nbformat_minor": 0,
  "metadata": {
    "colab": {
      "name": "task# 5.ipynb",
      "provenance": [],
      "authorship_tag": "ABX9TyM7k81DOa4NYlIsnZU95gVp",
      "include_colab_link": true
    },
    "kernelspec": {
      "name": "python3",
      "display_name": "Python 3"
    }
  },
  "cells": [
    {
      "cell_type": "markdown",
      "metadata": {
        "id": "view-in-github",
        "colab_type": "text"
      },
      "source": [
        "<a href=\"https://colab.research.google.com/github/MRBAIYSH69/Algorithms/blob/master/task_5.ipynb\" target=\"_parent\"><img src=\"https://colab.research.google.com/assets/colab-badge.svg\" alt=\"Open In Colab\"/></a>"
      ]
    },
    {
      "cell_type": "code",
      "metadata": {
        "id": "2hzZPik2cr_r",
        "colab_type": "code",
        "colab": {
          "base_uri": "https://localhost:8080/",
          "height": 102
        },
        "outputId": "a78869e2-4450-4a2d-988a-0fb75680bc7e"
      },
      "source": [
        "print('Введите три числа: ')\n",
        "a = int(input())\n",
        "b = int(input())\n",
        "c = int(input())\n",
        " \n",
        "\n",
        "if (a==b and a==c) or (b==c and b==a) or (c==a and c==b):\n",
        "  print('Существует равные числа, введите разные числа')\n",
        "elif b < a < c or c < a < b:\n",
        "    print('Среднее:', a)\n",
        "elif a < b < c or c < b < a:\n",
        "    print('Среднее:', b)\n",
        "elif a < c < b or a < c < b: \n",
        "    print('Среднее:', c)\n",
        "else:\n",
        "  print('Существует равные числа,введите разные числа')\n",
        "\n"
      ],
      "execution_count": 138,
      "outputs": [
        {
          "output_type": "stream",
          "text": [
            "Введите три числа: \n",
            "3252\n",
            "5\n",
            "366\n",
            "Существует равные числа,введите разные числа\n"
          ],
          "name": "stdout"
        }
      ]
    }
  ]
}