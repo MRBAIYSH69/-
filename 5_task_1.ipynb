{
  "nbformat": 4,
  "nbformat_minor": 0,
  "metadata": {
    "colab": {
      "name": "5.task##1.ipynb",
      "provenance": [],
      "collapsed_sections": [],
      "authorship_tag": "ABX9TyM4OhPYHeGhDesY71vaAWyQ",
      "include_colab_link": true
    },
    "kernelspec": {
      "name": "python3",
      "display_name": "Python 3"
    }
  },
  "cells": [
    {
      "cell_type": "markdown",
      "metadata": {
        "id": "view-in-github",
        "colab_type": "text"
      },
      "source": [
        "<a href=\"https://colab.research.google.com/github/MRBAIYSH69/Algorithms/blob/master/5_task_1.ipynb\" target=\"_parent\"><img src=\"https://colab.research.google.com/assets/colab-badge.svg\" alt=\"Open In Colab\"/></a>"
      ]
    },
    {
      "cell_type": "code",
      "metadata": {
        "id": "-Wsjmf5v2KOb",
        "colab_type": "code",
        "colab": {}
      },
      "source": [
        "# Пользователь вводит данные о количестве предприятий, их наименования и прибыль за четыре квартала для каждого предприятия. \n",
        "# Программа должна определить среднюю прибыль (за год для всех предприятий) и \n",
        "# отдельно вывести наименования предприятий, чья прибыль выше среднего и ниже среднего.\n",
        "import collections\n",
        "\n",
        "while True:\n",
        "  try :\n",
        "    n = int(input('\\nКоличество компаний:'))\n",
        "  except ValueError:\n",
        "    print('Вы ввели не допустимое значение')\n",
        "    continue\n",
        "  break\n",
        "\n",
        "companies = collections.defaultdict()\n",
        "prof_c = collections.deque()\n",
        "unprof_c = collections.deque()\n",
        "all_profit = 0\n",
        "QUARTER = 4\n",
        "\n",
        "for i in range(n):\n",
        "  name = input(f'\\nВведите название {i+1}-й компании:')\n",
        "  profit = 0\n",
        "  q = 1\n",
        "  while q <= QUARTER:\n",
        "    try:\n",
        "      profit += float(input(f'Введите прибыль за {q}-й квартал:'))\n",
        "    except ValueError:\n",
        "      print('Вы ввели не допустимое значение.')\n",
        "      continue\n",
        "    q += 1\n",
        "\n",
        "  companies[name] = profit\n",
        "  all_profit += profit\n",
        "\n",
        "mid_profit = all_profit/n\n",
        "for i,item in companies.items():\n",
        "  if item > mid_profit:\n",
        "    prof_c.append(i)\n",
        "  else:\n",
        "    unprof_c.append(i)\n",
        "\n",
        "\n",
        "print(f'Средняя прибыль всех компаний за год составила:{mid_profit}')\n",
        "print(f'Прибыль выше среднего у {len (prof_c)} компании:')\n",
        "for name in prof_c:\n",
        "  print(name)\n",
        "\n",
        "print(f'Прибыль ниже среднего у {len (unprof_c)} компании:')\n",
        "for name in unprof_c:\n",
        "  print(name)\n",
        "\n"
      ],
      "execution_count": 0,
      "outputs": []
    }
  ]
}