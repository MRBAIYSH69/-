{
  "nbformat": 4,
  "nbformat_minor": 0,
  "metadata": {
    "colab": {
      "name": "3.task##2.ipynb",
      "provenance": [],
      "collapsed_sections": [],
      "authorship_tag": "ABX9TyO4ApnEjrgwu0JctfbnBpvz",
      "include_colab_link": true
    },
    "kernelspec": {
      "name": "python3",
      "display_name": "Python 3"
    }
  },
  "cells": [
    {
      "cell_type": "markdown",
      "metadata": {
        "id": "view-in-github",
        "colab_type": "text"
      },
      "source": [
        "<a href=\"https://colab.research.google.com/github/MRBAIYSH69/Algorithms/blob/master/3_task_2.ipynb\" target=\"_parent\"><img src=\"https://colab.research.google.com/assets/colab-badge.svg\" alt=\"Open In Colab\"/></a>"
      ]
    },
    {
      "cell_type": "code",
      "metadata": {
        "id": "-qS_UAXMUy6h",
        "colab_type": "code",
        "outputId": "fa195bf9-c873-4440-b7c9-b2d971f66501",
        "colab": {
          "base_uri": "https://localhost:8080/",
          "height": 51
        }
      },
      "source": [
        "#Во втором массиве сохранить индексы четных элементов первого массива.\n",
        "#  Например, если дан массив со значениями 8, 3, 15, 6, 4, 2, второй массив надо заполнить значениями 0, 3, 4, 5 (помните, что индексация начинается с нуля), \n",
        "# т. к. именно в этих позициях первого массива стоят четные числа.\n",
        "\n",
        "from random import random\n",
        "N = 10\n",
        "arr = [0]*N\n",
        "even = []\n",
        "for i in range(N):\n",
        "    arr[i] = int(random() * 10) + 10\n",
        "    if arr[i] % 2 == 0:\n",
        "        even.append(i)\n",
        "print(arr)\n",
        "print('Индексы четных элементов: ', even)\n",
        "\n",
        "\n"
      ],
      "execution_count": 2,
      "outputs": [
        {
          "output_type": "stream",
          "text": [
            "[19, 12, 10, 16, 15, 13, 14, 18, 18, 11]\n",
            "Индексы четных элементов:  [1, 2, 3, 6, 7, 8]\n"
          ],
          "name": "stdout"
        }
      ]
    },
    {
      "cell_type": "code",
      "metadata": {
        "id": "XhVydv-zM86n",
        "colab_type": "code",
        "colab": {}
      },
      "source": [
        ""
      ],
      "execution_count": 0,
      "outputs": []
    },
    {
      "cell_type": "code",
      "metadata": {
        "id": "uW36FRg5NAoz",
        "colab_type": "code",
        "colab": {}
      },
      "source": [
        ""
      ],
      "execution_count": 0,
      "outputs": []
    }
  ]
}