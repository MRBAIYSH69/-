{
  "nbformat": 4,
  "nbformat_minor": 0,
  "metadata": {
    "colab": {
      "name": "2.task##4.ipynb",
      "provenance": [],
      "collapsed_sections": [],
      "authorship_tag": "ABX9TyP4pHh6yDAQkJ9dhXRUxUMT",
      "include_colab_link": true
    },
    "kernelspec": {
      "name": "python3",
      "display_name": "Python 3"
    }
  },
  "cells": [
    {
      "cell_type": "markdown",
      "metadata": {
        "id": "view-in-github",
        "colab_type": "text"
      },
      "source": [
        "<a href=\"https://colab.research.google.com/github/MRBAIYSH69/Algorithms/blob/master/2_task_4.ipynb\" target=\"_parent\"><img src=\"https://colab.research.google.com/assets/colab-badge.svg\" alt=\"Open In Colab\"/></a>"
      ]
    },
    {
      "cell_type": "code",
      "metadata": {
        "id": "NzuiVRoj6KXQ",
        "colab_type": "code",
        "outputId": "2aca065a-dd55-4fc9-b894-999b43462466",
        "colab": {
          "base_uri": "https://localhost:8080/",
          "height": 51
        }
      },
      "source": [
        "#Сформировать из введенного числа обратное по порядку входящих в него цифр и вывести на экран. Например, если введено число 3486, надо вывести 6843.\n",
        "n = int(input())\n",
        "m = 0\n",
        "while n>0:\n",
        "    m = m*10 + n%10\n",
        "    n = n//10\n",
        "print(m)"
      ],
      "execution_count": 0,
      "outputs": [
        {
          "output_type": "stream",
          "text": [
            "7658790\n",
            "978567\n"
          ],
          "name": "stdout"
        }
      ]
    },
    {
      "cell_type": "code",
      "metadata": {
        "id": "4VLzlsgJL3vE",
        "colab_type": "code",
        "colab": {
          "base_uri": "https://localhost:8080/",
          "height": 391
        },
        "outputId": "95c26194-7a9d-4198-dcf7-2a91c695a586"
      },
      "source": [
        "#В программе генерируется случайное целое число от 0 до 100. Пользователь должен его отгадать не более чем за 10 попыток. После каждой неудачной попытки должно сообщаться, больше или меньше введенное пользователем число, чем то, что загадано. Если за 10 попыток число не отгадано, вывести ответ.\n",
        "from random import random\n",
        "n = round(random() * 100)\n",
        "i = 1\n",
        "print(\"Компьютер загадал число. Отгадайте его. У вас 10 попыток\")\n",
        "while i <= 10:\n",
        "    u = int(input(str(i) + '-я попытка: '))\n",
        "    if u > n:\n",
        "        print('Много')\n",
        "    elif u < n:\n",
        "        print('Мало')\n",
        "    else:\n",
        "        print('Вы угадали с' ,i,'-й попытки' )\n",
        "        break\n",
        "    i += 1\n",
        "else:\n",
        "    print('Вы исчерпали 10 попыток. Было загадано', n)\n"
      ],
      "execution_count": 12,
      "outputs": [
        {
          "output_type": "stream",
          "text": [
            "Компьютер загадал число. Отгадайте его. У вас 10 попыток\n",
            "1-я попытка: 12\n",
            "Мало\n",
            "2-я попытка: 23\n",
            "Мало\n",
            "3-я попытка: 23\n",
            "Мало\n",
            "4-я попытка: 34\n",
            "Мало\n",
            "5-я попытка: 45\n",
            "Мало\n",
            "6-я попытка: 42\n",
            "Мало\n",
            "7-я попытка: 34\n",
            "Мало\n",
            "8-я попытка: 54\n",
            "Мало\n",
            "9-я попытка: 3\n",
            "Мало\n",
            "10-я попытка: 32\n",
            "Мало\n",
            "Вы исчерпали 10 попыток. Было загадано 73\n"
          ],
          "name": "stdout"
        }
      ]
    }
  ]
}